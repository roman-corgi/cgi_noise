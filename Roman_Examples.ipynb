{
 "cells": [
  {
   "cell_type": "markdown",
   "id": "00ec5d44-db2f-4f53-8ccb-bea73999b4b2",
   "metadata": {},
   "source": [
    "# Example Notebook"
   ]
  },
  {
   "cell_type": "markdown",
   "id": "c34006c8-f452-475f-aad8-94cc282b4ca4",
   "metadata": {},
   "source": [
    "This page allows you to do three study cases\n",
    "\n",
    "A) Time to SNR or SNR in allowed time\n",
    "\n",
    "B) Planet Sensitivity\n",
    "\n",
    "C) Dust Sensitivity\n",
    "\n",
    "User may define or select values specifically for each one; open the table of contents and look for \"USER\"\n",
    "Specific variables, such as integration time, can optionally be set independently for each case"
   ]
  },
  {
   "cell_type": "code",
   "execution_count": 1,
   "id": "51ad5dec",
   "metadata": {},
   "outputs": [],
   "source": [
    "import os\n",
    "import sys\n",
    "current_dir = os.getcwd()\n",
    "sys.path.append(current_dir)\n",
    "from loadXLcol import loadXLcol\n",
    "import pandas as pd\n",
    "import math\n",
    "import func_library as fl\n",
    "from matplotlib import pyplot as plt\n",
    "import matplotlib.patches as patches\n",
    "%matplotlib inline\n",
    "import pdb\n",
    "from pathlib import Path\n",
    "from IPython.display import Image, display\n",
    "from datetime import datetime\n",
    "import unitsConstants as uc\n",
    "import numpy as np"
   ]
  },
  {
   "cell_type": "code",
   "execution_count": 2,
   "id": "c07d3ecb",
   "metadata": {},
   "outputs": [
    {
     "name": "stdout",
     "output_type": "stream",
     "text": [
      "D:\\Repos\\CGI_Noise\n"
     ]
    }
   ],
   "source": [
    "filenamedir = current_dir\n",
    "print(filenamedir)\n",
    "\n",
    "current_datetime = datetime.now()\n"
   ]
  },
  {
   "cell_type": "markdown",
   "id": "77e91634-20e8-4ce5-8982-743b828d98c1",
   "metadata": {},
   "source": [
    "## Calculation Parameters Specification"
   ]
  },
  {
   "cell_type": "code",
   "execution_count": 3,
   "id": "6734ba02-83d5-470f-b948-cf27b30c6c32",
   "metadata": {},
   "outputs": [],
   "source": [
    "# Primary Mirror Diameter for Roman\n",
    "DPM = 2.363 * uc.meter"
   ]
  },
  {
   "cell_type": "markdown",
   "id": "c3bf9d13-667c-481e-a5f3-b7b84d02c1bf",
   "metadata": {},
   "source": [
    "Scenario specification is done via an excel \"scenario file\""
   ]
  },
  {
   "cell_type": "code",
   "execution_count": 4,
   "id": "a9da1878",
   "metadata": {},
   "outputs": [
    {
     "name": "stdout",
     "output_type": "stream",
     "text": [
      "Select a scenario from the list of available options.\n",
      "SCEN_IMG_NFOV_B1_HLC.xlsx\n",
      "SCEN_IMG_NFOV_B2_SPC.xlsx\n",
      "SCEN_IMG_WFOV_B4_SPC.xlsx\n",
      "~$SCEN_DRM_IMG_WF_B4.xlsx\n",
      "~$SCEN_IMG_NFOV_B1_HLC.xlsx\n",
      "~$SCEN_IMG_NFOV_B2_SPC.xlsx\n"
     ]
    }
   ],
   "source": [
    "scenario_filename = 'SCEN_IMG_NFOV_B2_SPC.xlsx' #'SCEN_DRM_IMG_WF_B4.xlsx' # 'SCEN_DRM_SP_B2_TVAC.xlsx' # 'SCEN_DRM_IMG_WF_B3_TVAC.xlsx' # 'SCEN_DRM_IMG_NF_B1_HLC.xlsx' # \n",
    "\n",
    "print('Select a scenario from the list of available options.')\n",
    "SCEN_Dict = fl.open_folder('EBcsvData','Scenarios')\n",
    "for key in SCEN_Dict.keys():\n",
    "    if key.find('.xlsx') != -1:\n",
    "        print(key)\n",
    "\n",
    "\n",
    "# ### Scenario Parameters"
   ]
  },
  {
   "cell_type": "markdown",
   "id": "e148cd0b",
   "metadata": {},
   "source": [
    "### Scenario Parameters"
   ]
  },
  {
   "cell_type": "code",
   "execution_count": 5,
   "id": "a5ddfc69",
   "metadata": {},
   "outputs": [],
   "source": [
    "#-------------------------------------------------------\n",
    "# SET THE SCENARIO PARAMETERS\n",
    "#-------------------------------------------------------\n",
    "# Set Study Parameters\n",
    "SNRtarget  = 5.0 # desired signal to noise ratio\n",
    "maxTinteg  = 100 # integration time in hours\n",
    "pp_factor  = 2   # k_pp, post-processing factor\n",
    "monthsAtL2 = 21  # months at L2\n",
    "\n",
    "perfLevel = 'CBE'\n",
    "\n",
    "# Contrast Stability options (choose 'MCBE_'):\n",
    "CSprefix = 'MCBE_' # 'ICBE_'(instrument CBE), 'MCBE_'(mission CBE)\n",
    "CBEtype = \"mission\", # \"instrument\", \"mission\"\n",
    "\n",
    "# Detector Options (boolean):\n",
    "isPhotonCounting = True \n",
    "\n",
    "# # Set Study Parameter values as authoritative\n",
    "# keepConsistent = 1 # 0 to redefine Study Parameters for each study case"
   ]
  },
  {
   "cell_type": "code",
   "execution_count": 6,
   "id": "51541a45",
   "metadata": {},
   "outputs": [
    {
     "data": {
      "text/html": [
       "<div>\n",
       "<style scoped>\n",
       "    .dataframe tbody tr th:only-of-type {\n",
       "        vertical-align: middle;\n",
       "    }\n",
       "\n",
       "    .dataframe tbody tr th {\n",
       "        vertical-align: top;\n",
       "    }\n",
       "\n",
       "    .dataframe thead th {\n",
       "        text-align: right;\n",
       "    }\n",
       "</style>\n",
       "<table border=\"1\" class=\"dataframe\">\n",
       "  <thead>\n",
       "    <tr style=\"text-align: right;\">\n",
       "      <th></th>\n",
       "      <th>Latest</th>\n",
       "    </tr>\n",
       "  </thead>\n",
       "  <tbody>\n",
       "    <tr>\n",
       "      <th>Scenario</th>\n",
       "      <td>DRM SPEC Band 2</td>\n",
       "    </tr>\n",
       "    <tr>\n",
       "      <th>CenterLambda_nm</th>\n",
       "      <td>730.0</td>\n",
       "    </tr>\n",
       "    <tr>\n",
       "      <th>BW</th>\n",
       "      <td>0.15</td>\n",
       "    </tr>\n",
       "    <tr>\n",
       "      <th>OperatingMode</th>\n",
       "      <td>SPC_Amici_SPEC</td>\n",
       "    </tr>\n",
       "    <tr>\n",
       "      <th>CoronagraphFile</th>\n",
       "      <td>CGPERF_SPEC_20200617</td>\n",
       "    </tr>\n",
       "    <tr>\n",
       "      <th>Months_at_L2</th>\n",
       "      <td>21.0</td>\n",
       "    </tr>\n",
       "    <tr>\n",
       "      <th>DesiredSNR</th>\n",
       "      <td>6.0</td>\n",
       "    </tr>\n",
       "    <tr>\n",
       "      <th>FidPlanet</th>\n",
       "      <td>Fiducial HLC B1</td>\n",
       "    </tr>\n",
       "    <tr>\n",
       "      <th>QE_Curve_file</th>\n",
       "      <td>QE_e2v_Spec</td>\n",
       "    </tr>\n",
       "    <tr>\n",
       "      <th>t_frame_unused</th>\n",
       "      <td>0.909</td>\n",
       "    </tr>\n",
       "    <tr>\n",
       "      <th>pp_Factor_CBE</th>\n",
       "      <td>2.0</td>\n",
       "    </tr>\n",
       "    <tr>\n",
       "      <th>t_core_CBEmeas</th>\n",
       "      <td>0.05</td>\n",
       "    </tr>\n",
       "    <tr>\n",
       "      <th>t_coreMUF_CBE</th>\n",
       "      <td>1.0</td>\n",
       "    </tr>\n",
       "    <tr>\n",
       "      <th>DetModelFile_CBE</th>\n",
       "      <td>DET_CBE_TVAC_240402</td>\n",
       "    </tr>\n",
       "    <tr>\n",
       "      <th>DutyFactor_CBE</th>\n",
       "      <td>1.0</td>\n",
       "    </tr>\n",
       "    <tr>\n",
       "      <th>R_required</th>\n",
       "      <td>NaN</td>\n",
       "    </tr>\n",
       "    <tr>\n",
       "      <th>DPM</th>\n",
       "      <td>2.363</td>\n",
       "    </tr>\n",
       "    <tr>\n",
       "      <th>LocZodi_magas2</th>\n",
       "      <td>23.0</td>\n",
       "    </tr>\n",
       "    <tr>\n",
       "      <th>ExoZodi_magas2</th>\n",
       "      <td>22.0</td>\n",
       "    </tr>\n",
       "    <tr>\n",
       "      <th>TimeonRefStar_tRef_per_tTar</th>\n",
       "      <td>0.25</td>\n",
       "    </tr>\n",
       "    <tr>\n",
       "      <th>RefStar_SpectralType</th>\n",
       "      <td>a0v</td>\n",
       "    </tr>\n",
       "    <tr>\n",
       "      <th>RefStar_V_mag_CBE</th>\n",
       "      <td>2.26</td>\n",
       "    </tr>\n",
       "    <tr>\n",
       "      <th>RefStar_V_mag_REQ</th>\n",
       "      <td>3.0</td>\n",
       "    </tr>\n",
       "    <tr>\n",
       "      <th>RefStar_Distance_pc</th>\n",
       "      <td>10.0</td>\n",
       "    </tr>\n",
       "    <tr>\n",
       "      <th>RefStar_ExoZodi_Xsolar</th>\n",
       "      <td>1.0</td>\n",
       "    </tr>\n",
       "    <tr>\n",
       "      <th>ContrastStabilityFile</th>\n",
       "      <td>CS_SPC_SPEC_201026</td>\n",
       "    </tr>\n",
       "    <tr>\n",
       "      <th>ThroughputFile</th>\n",
       "      <td>THPT_EB_SPB3_200730</td>\n",
       "    </tr>\n",
       "    <tr>\n",
       "      <th>CalibrationFile</th>\n",
       "      <td>CAL_EB_TTR_241227</td>\n",
       "    </tr>\n",
       "    <tr>\n",
       "      <th>MultiPurposeMode</th>\n",
       "      <td>DRM_IMG_NF_B1</td>\n",
       "    </tr>\n",
       "    <tr>\n",
       "      <th>StrayLightFRNfile</th>\n",
       "      <td>STRAY_lightforFRN210315</td>\n",
       "    </tr>\n",
       "  </tbody>\n",
       "</table>\n",
       "</div>"
      ],
      "text/plain": [
       "                                              Latest\n",
       "Scenario                             DRM SPEC Band 2\n",
       "CenterLambda_nm                                730.0\n",
       "BW                                              0.15\n",
       "OperatingMode                         SPC_Amici_SPEC\n",
       "CoronagraphFile                 CGPERF_SPEC_20200617\n",
       "Months_at_L2                                    21.0\n",
       "DesiredSNR                                       6.0\n",
       "FidPlanet                            Fiducial HLC B1\n",
       "QE_Curve_file                            QE_e2v_Spec\n",
       "t_frame_unused                                 0.909\n",
       "pp_Factor_CBE                                    2.0\n",
       "t_core_CBEmeas                                  0.05\n",
       "t_coreMUF_CBE                                    1.0\n",
       "DetModelFile_CBE                 DET_CBE_TVAC_240402\n",
       "DutyFactor_CBE                                   1.0\n",
       "R_required                                       NaN\n",
       "DPM                                            2.363\n",
       "LocZodi_magas2                                  23.0\n",
       "ExoZodi_magas2                                  22.0\n",
       "TimeonRefStar_tRef_per_tTar                     0.25\n",
       "RefStar_SpectralType                             a0v\n",
       "RefStar_V_mag_CBE                               2.26\n",
       "RefStar_V_mag_REQ                                3.0\n",
       "RefStar_Distance_pc                             10.0\n",
       "RefStar_ExoZodi_Xsolar                           1.0\n",
       "ContrastStabilityFile             CS_SPC_SPEC_201026\n",
       "ThroughputFile                   THPT_EB_SPB3_200730\n",
       "CalibrationFile                    CAL_EB_TTR_241227\n",
       "MultiPurposeMode                       DRM_IMG_NF_B1\n",
       "StrayLightFRNfile            STRAY_lightforFRN210315"
      ]
     },
     "execution_count": 6,
     "metadata": {},
     "output_type": "execute_result"
    }
   ],
   "source": [
    "scenFolder = fl.open_folder(\"EBcsvData\",\"Scenarios\")\n",
    "\n",
    "# Specify here how many rows of the Scenario Excel to read:\n",
    "scenarioDF = loadXLcol(scenFolder[scenario_filename],30).df\n",
    "\n",
    "scenario = scenarioDF.at['Scenario','Latest']\n",
    "scenarioDF"
   ]
  },
  {
   "cell_type": "code",
   "execution_count": 7,
   "id": "192845bc-752c-4a29-812c-33809328983d",
   "metadata": {},
   "outputs": [
    {
     "name": "stdout",
     "output_type": "stream",
     "text": [
      "7.3e-07\n"
     ]
    }
   ],
   "source": [
    "lam = scenarioDF.at['CenterLambda_nm','Latest'] * uc.nm\n",
    "print(lam)"
   ]
  },
  {
   "cell_type": "code",
   "execution_count": 8,
   "id": "1ed775f0-fbd8-43a6-a72a-e6cb34f507c4",
   "metadata": {},
   "outputs": [
    {
     "name": "stdout",
     "output_type": "stream",
     "text": [
      "Lambda/D = 3.089e-07 rad\n",
      "Lambda/D = 63.721 mas\n"
     ]
    }
   ],
   "source": [
    "lamD = lam / DPM\n",
    "\n",
    "print(f'Lambda/D = {lamD:5.3e} rad')\n",
    "print(f'Lambda/D = {lamD/uc.mas:5.3f} mas')\n"
   ]
  },
  {
   "cell_type": "markdown",
   "id": "c42c9fa2",
   "metadata": {},
   "source": [
    "### Host Star & Planet Specs"
   ]
  },
  {
   "cell_type": "code",
   "execution_count": 9,
   "id": "db694903",
   "metadata": {},
   "outputs": [
    {
     "name": "stdout",
     "output_type": "stream",
     "text": [
      "Separation =   263 mas\n"
     ]
    }
   ],
   "source": [
    "# User set host star and planet specifications\n",
    "\n",
    "hostStar_vmag = 5.05\n",
    "hostStar_dist = 13.8 # parsec\n",
    "hostStar_type = 'g0v'\n",
    "\n",
    "planet_phaseAngle = 65   # degrees\n",
    "planet_sma_AU     = 4    # AU\n",
    "planet_radius     = 1 # R_Jupiter\n",
    "planet_GeomAlbedo = 0.3\n",
    "\n",
    "sep_mas    = fl.Target.phaseAng_to_sep(planet_sma_AU, hostStar_dist, planet_phaseAngle)\n",
    "\n",
    "print(f'Separation = {sep_mas:5.0f} mas')\n",
    "\n",
    "exoZodi = 1\n",
    "\n",
    "detPCthreshold = 5.0"
   ]
  },
  {
   "cell_type": "code",
   "execution_count": 10,
   "id": "784077f7",
   "metadata": {},
   "outputs": [
    {
     "name": "stdout",
     "output_type": "stream",
     "text": [
      "0.05\n",
      "a0v\n"
     ]
    }
   ],
   "source": [
    "# Assign core throughput values from file to local variables\n",
    "thpt_t_pnt = scenarioDF.at['t_core_CBEmeas','Latest']\n",
    "print(thpt_t_pnt)\n",
    "RefStarSpecType = scenarioDF.at['RefStar_SpectralType','Latest']\n",
    "print(RefStarSpecType)"
   ]
  },
  {
   "cell_type": "code",
   "execution_count": 11,
   "id": "fee0d2fb",
   "metadata": {},
   "outputs": [
    {
     "name": "stdout",
     "output_type": "stream",
     "text": [
      "Planet delta-mag = 2.07525750e+01\n",
      "Flux Ratio       = 5.00000000e-09\n"
     ]
    }
   ],
   "source": [
    "#-------------------------------------------------\n",
    "# Derive Delta Mag from Desired Flux Ratio\n",
    "#------------------------------------------------\n",
    "# Set Flux Ratio and derive the deltaMag\n",
    "fluxRatio0 = 5e-9\n",
    "planet_deltaMag = fl.Target.fluxRatio_to_deltaMag(fluxRatio0)\n",
    "\n",
    "print(f'Planet delta-mag = {planet_deltaMag:5.8e}')\n",
    "\n",
    "#-------------------------------------------------\n",
    "# Set Delta Mag and derive the Flux ratio\n",
    "#-------------------------------------------------\n",
    "\n",
    "# Uncomment to set the deltaMag and derive the fluxRatio\n",
    "#planet_deltaMag = 20.752574989159953\n",
    "#planet_fluxRatio = 10**(-0.4*planet_deltaMag)\n",
    "\n",
    "planet_fluxRatio = fl.Target.deltaMag_to_fluxRatio(planet_deltaMag)\n",
    "\n",
    "print(f'Flux Ratio       = {planet_fluxRatio:5.8e}')"
   ]
  },
  {
   "cell_type": "code",
   "execution_count": 12,
   "id": "533d9b1f",
   "metadata": {},
   "outputs": [
    {
     "name": "stdout",
     "output_type": "stream",
     "text": [
      "Target Specs:\n",
      "V:                 5.05\n",
      "DIST:              13.8\n",
      "Geometric Albedo:  0.3\n",
      "ExoZodi xSolar:    1\n",
      "SMA au:            3.999999999999999\n",
      "Spec type:         g0v\n",
      "Phase Angle (deg): 65\n",
      "Albedo:            0.36631085001650515\n",
      "Radius Rjup        1\n",
      "Separation_mas     262.6979092859854\n"
     ]
    }
   ],
   "source": [
    "# set up target specs\n",
    "target = fl.Target( v_mag = hostStar_vmag,\\\n",
    "                   phaseAng_deg = planet_phaseAngle,\\\n",
    "                   geomAlb_ag = planet_GeomAlbedo, \\\n",
    "                   radius_Rjup = planet_radius, \\\n",
    "                   dist_pc = hostStar_dist,\\\n",
    "                   exoZodi = exoZodi,\\\n",
    "                   specType = hostStar_type,\\\n",
    "                   sma_AU = planet_sma_AU\n",
    "                   )\n",
    "\n",
    "\n",
    "sma_AU = target.sep_and_dist_to_SMA(sep_mas, hostStar_dist, planet_phaseAngle)\n",
    "target.sma_AU = sma_AU\n",
    "target.albedo = target.fluxRatio_SMA_rad_to_albedo( planet_fluxRatio, sma_AU, planet_radius)\n",
    "\n",
    "print('Target Specs:')\n",
    "print(f'V:                 {target.v_mag}')\n",
    "print(f'DIST:              {target.dist_pc}')\n",
    "print(f'Geometric Albedo:  {target.geomAlb_ag}')\n",
    "print(f'ExoZodi xSolar:    {target.exoZodi}')\n",
    "print(f'SMA au:            {target.sma_AU}')\n",
    "print(f'Spec type:         {target.specType}')\n",
    "print(f'Phase Angle (deg): {target.phaseAng_deg}')\n",
    "print(f'Albedo:            {target.albedo}')\n",
    "print(f'Radius Rjup        {target.radius_Rjup}')\n",
    "print(f'Separation_mas     {sep_mas}')"
   ]
  },
  {
   "cell_type": "markdown",
   "id": "f36618ab",
   "metadata": {},
   "source": [
    "## Planet Sensitivity"
   ]
  },
  {
   "cell_type": "code",
   "execution_count": 13,
   "id": "5b61db6b",
   "metadata": {},
   "outputs": [],
   "source": [
    "# get list of specific csv files for selected mode\n",
    "filenameList = fl.getScenFileNames_DRM(scenarioDF)\n",
    "\n",
    "# get the data tables of the mode-specific csv files\n",
    "[CG_Data, QE_Data, DET_CBE_Data, STRAY_FRN_Data, THPT_Data, CAL_Data, CS_Data] \\\n",
    "    = fl.loadCSVs(filenameList)\n",
    "\n",
    "# calculate planet working angle from given target specifications\n",
    "IWA, OWA = fl.workingAnglePars(CG_Data, CS_Data)\n",
    "\n",
    "planetWA = fl.Target.separation_to_planetWA(sep_mas, lamD, IWA, OWA)\n",
    " \n",
    "\n",
    "# Constrast Stability for Mission CBE\n",
    "selDeltaC, selContrast, SystematicCont, initStatRawContrast,\\\n",
    "    rawContrast, IntContStab, ExtContStab\\\n",
    "        = fl.contrastStabilityPars( CSprefix, planetWA, CS_Data)\n",
    "\n",
    "det_QE = fl.getQE(scenarioDF, QE_Data)\n",
    "detDarkBOM, detDarkEOM, DarkCur_epoch_per_s, DarkCur_epoch_per_hr,\\\n",
    "    missionFraction, detEOL_mos\\\n",
    "    = fl.getDarkCurrent(DET_CBE_Data, monthsAtL2)\n",
    "\n",
    "CGtauPol, indWA, CGcoreThruput, PSFpeakI, omegaPSF, CGintSamp,\\\n",
    "    CGradius_arcsec, CGdesignWL, CGintmpix, CG_PSFarea_sqlamD, CGintensity,\\\n",
    "        CG_occulter_transmission, CGcontrast\\\n",
    "            = fl.coronagraph_pars(CG_Data, planetWA, IWA, DPM, lamD)"
   ]
  },
  {
   "cell_type": "code",
   "execution_count": 14,
   "id": "1895a5de",
   "metadata": {},
   "outputs": [],
   "source": [
    "thpt_t_obsc = THPT_Data.df.at[0,'Pupil_Transmission']\n",
    "\n",
    "colArea =((math.pi/4)*DPM**2)*thpt_t_obsc\n",
    "\n",
    "thpt_OTA_TCA = THPT_Data.df.at[0,\"CBE_OTAplusTCA\"]\n",
    "thpt_CGI = THPT_Data.df.at[0,\"CBE_CGI\"]\n",
    "thpt_t_core = CGcoreThruput\n",
    "thpt_tau_pk = PSFpeakI\n",
    "\n",
    "thpt_t_occ = CG_occulter_transmission/CGtauPol\n",
    "\n",
    "try:\n",
    "    thpt_t_PSF =  thpt_t_core/thpt_t_occ\n",
    "except:\n",
    "    thpt_t_PSF = 0\n",
    "\n",
    "thpt_t_refl = thpt_OTA_TCA * thpt_CGI;\n",
    "thpt_t_pol  = CGtauPol\n",
    "thpt_t_unif = thpt_t_occ * thpt_t_refl * thpt_t_pol\n",
    "thpt_t_speckle = thpt_t_refl * thpt_t_pol  \n",
    "\n",
    "# omega_PSF is in as2\n",
    "thpt_coreArea_LamD = omegaPSF/(lamD*0.001/uc.mas)**2 \n",
    "thpt_bkgLimitedCore = thpt_t_core/ math.sqrt( thpt_coreArea_LamD )"
   ]
  },
  {
   "cell_type": "code",
   "execution_count": 15,
   "id": "7300da4e-b46e-4891-b7dc-cddff7921d9e",
   "metadata": {},
   "outputs": [],
   "source": [
    "# Assign values from scenario file to local variables\n",
    "opMode = scenarioDF.at['OperatingMode','Latest']\n",
    "bandWidth = scenarioDF.at['BW','Latest']\n",
    "RefStarVmag_CBE = scenarioDF.at['RefStar_V_mag_CBE','Latest']\n",
    "RefStarDist = scenarioDF.at['RefStar_Distance_pc','Latest']\n",
    "RefStarExoZodi = scenarioDF.at['RefStar_ExoZodi_Xsolar','Latest']\n",
    "timeOnRef = scenarioDF.at['TimeonRefStar_tRef_per_tTar','Latest']\n",
    "magLocalZodi = scenarioDF.at['LocZodi_magas2','Latest']\n",
    "magExoZodi_1AU = scenarioDF.at['ExoZodi_magas2','Latest']\n",
    "k_comp = 0\n",
    "FWC_gr = 90000"
   ]
  },
  {
   "cell_type": "code",
   "execution_count": null,
   "id": "a0fda187-adcf-4ca2-a9dc-cdac5aebcb2d",
   "metadata": {},
   "outputs": [],
   "source": []
  },
  {
   "cell_type": "code",
   "execution_count": 19,
   "id": "7afe71b3-3fa7-4a75-8c39-f8e8cbb6d374",
   "metadata": {},
   "outputs": [
    {
     "name": "stdout",
     "output_type": "stream",
     "text": [
      "resolution = NaN\n",
      "R_required is not specified in scenario-- set to default 0\n"
     ]
    },
    {
     "ename": "AttributeError",
     "evalue": "'Target' object has no attribute 'starFlux'",
     "output_type": "error",
     "traceback": [
      "\u001b[1;31m---------------------------------------------------------------------------\u001b[0m",
      "\u001b[1;31mAttributeError\u001b[0m                            Traceback (most recent call last)",
      "Cell \u001b[1;32mIn[19], line 8\u001b[0m\n\u001b[0;32m      1\u001b[0m f_SR, CritLam, detPixSize_m, mpix, pixPlateSc\\\n\u001b[0;32m      2\u001b[0m     \u001b[38;5;241m=\u001b[39m fl\u001b[38;5;241m.\u001b[39mgetFocalPlaneAttributes(opMode, scenarioDF, DET_CBE_Data, lam, bandWidth,\\\n\u001b[0;32m      3\u001b[0m                         DPM, CGdesignWL, omegaPSF)\n\u001b[0;32m      5\u001b[0m inBandFlux0_sum, inBandZeroMagFlux, starFlux\\\n\u001b[0;32m      6\u001b[0m     \u001b[38;5;241m=\u001b[39m fl\u001b[38;5;241m.\u001b[39mgetSpectra(target, lam, bandWidth)\n\u001b[1;32m----> 8\u001b[0m \u001b[38;5;28mprint\u001b[39m(\u001b[43mtarget\u001b[49m\u001b[38;5;241;43m.\u001b[39;49m\u001b[43mstarFlux\u001b[49m)\n",
      "\u001b[1;31mAttributeError\u001b[0m: 'Target' object has no attribute 'starFlux'"
     ]
    }
   ],
   "source": [
    "f_SR, CritLam, detPixSize_m, mpix, pixPlateSc\\\n",
    "    = fl.getFocalPlaneAttributes(opMode, scenarioDF, DET_CBE_Data, lam, bandWidth,\\\n",
    "                        DPM, CGdesignWL, omegaPSF)\n",
    "\n",
    "inBandFlux0_sum, inBandZeroMagFlux, starFlux\\\n",
    "    = fl.getSpectra(target, lam, bandWidth)\n",
    "\n",
    "print(target.starFlux)"
   ]
  },
  {
   "cell_type": "code",
   "execution_count": 17,
   "id": "b8d04615-dc21-4ce6-8545-acf72e0ba4e3",
   "metadata": {},
   "outputs": [
    {
     "name": "stderr",
     "output_type": "stream",
     "text": [
      "D:\\Repos\\CGI_Noise\\func_library_trim.py:405: RuntimeWarning: invalid value encountered in scalar divide\n",
      "  BrightnessRatio = RefStarFlux/starFlux\n"
     ]
    }
   ],
   "source": [
    "fluxRatio, planetFlux = fl.getFluxRatio(target, starFlux)\n",
    "\n",
    "RefStarVmag, RefStarAbsMag, RefStarinBandZeroMagFlux, RefStarDeltaMag,\\\n",
    "     RefStarFlux, BrightnessRatio, betaRDI, k_sp, k_det, k_lzo, k_ezo,\\\n",
    "         v_sp, v_det, v_lzo, v_ezo \\\n",
    "             = fl.getrefStarRDI(target, inBandFlux0_sum, starFlux,\\\n",
    "              RefStarSpecType, RefStarVmag_CBE,\\\n",
    "                  RefStarDist, RefStarExoZodi, timeOnRef)\n",
    "\n",
    "ZodiFlux, exoZodiAngFlux, loZodiAngFlux, loZodiFlux, exoZodiFlux, absMag \\\n",
    "    = fl.getZodi(magLocalZodi, magExoZodi_1AU, target, inBandZeroMagFlux, omegaPSF)\n",
    "\n",
    "rate_planet_imgArea, rate_Zodi_imgArea, rate_exoZodi_incPht,\\\n",
    "    rate_loZodi_incPht, rate_speckleBkg, rate_photoConverted,\\\n",
    "        rate_totalwithoutplanet \\\n",
    "    = fl.getNoiseRates(f_SR, starFlux, fluxRatio, colArea, thpt_t_pnt, thpt_tau_pk,\\\n",
    "              thpt_t_speckle, det_QE, exoZodiFlux, loZodiFlux, thpt_t_unif, k_comp,\\\n",
    "              rawContrast,CGintmpix, mpix, DarkCur_epoch_per_s)\n",
    "\n",
    "frameTime, frameTime_ANLG,maxANLGt_fr,maxPCt_fr, detEMgain\\\n",
    "    = fl.getFrameExposureTime(DET_CBE_Data, FWC_gr, rate_totalwithoutplanet,\\\n",
    "                     rate_photoConverted, isPhotonCounting)"
   ]
  },
  {
   "cell_type": "code",
   "execution_count": 18,
   "id": "7aada093",
   "metadata": {},
   "outputs": [
    {
     "ename": "NameError",
     "evalue": "name 'CIC_adjust' is not defined",
     "output_type": "error",
     "traceback": [
      "\u001b[1;31m---------------------------------------------------------------------------\u001b[0m",
      "\u001b[1;31mNameError\u001b[0m                                 Traceback (most recent call last)",
      "Cell \u001b[1;32mIn[18], line 2\u001b[0m\n\u001b[0;32m      1\u001b[0m det_CIC_in_DC_units, det_CIC_at_epoch, det_CIC_gain\\\n\u001b[1;32m----> 2\u001b[0m     \u001b[38;5;241m=\u001b[39m fl\u001b[38;5;241m.\u001b[39mgetDetectorCIC(DET_CBE_Data, \u001b[43mCIC_adjust\u001b[49m, detEMgain, missionFraction, frameTime)\n\u001b[0;32m      4\u001b[0m CRhitsPerFrame,detPixAcross,detPixSize,CRrate,CRtailLen\\\n\u001b[0;32m      5\u001b[0m     \u001b[38;5;241m=\u001b[39m fl\u001b[38;5;241m.\u001b[39mgetDetectorCosmicRays(perfLevel, DET_CBE_Data, detEMgain, frameTime )\n\u001b[0;32m      7\u001b[0m CTE_clocking_efficiency, CTE_traps, signalPerPixPerFrame\\\n\u001b[0;32m      8\u001b[0m     \u001b[38;5;241m=\u001b[39m fl\u001b[38;5;241m.\u001b[39mgetCTE(DET_CBE_Data, rate_photoConverted,frameTime,missionFraction)\n",
      "\u001b[1;31mNameError\u001b[0m: name 'CIC_adjust' is not defined"
     ]
    }
   ],
   "source": [
    "det_CIC_in_DC_units, det_CIC_at_epoch, det_CIC_gain\\\n",
    "    = fl.getDetectorCIC(DET_CBE_Data, CIC_adjust, detEMgain, missionFraction, frameTime)\n",
    "\n",
    "CRhitsPerFrame,detPixAcross,detPixSize,CRrate,CRtailLen\\\n",
    "    = fl.getDetectorCosmicRays(perfLevel, DET_CBE_Data, detEMgain, frameTime )\n",
    "\n",
    "CTE_clocking_efficiency, CTE_traps, signalPerPixPerFrame\\\n",
    "    = fl.getCTE(DET_CBE_Data, rate_photoConverted,frameTime,missionFraction)\n",
    "\n",
    "hotPixFrac, hotPix = fl.gethotPixels(DET_CBE_Data, missionFraction)\n",
    "\n",
    "ENF = fl.getENF(isPhotonCounting)\n",
    "detCamRead = DET_CBE_Data.df.at[0,'ReadNoise_e']\n",
    "\n",
    "readNoise, readNoise_leakage, readNoise_leakage_in_current_units,\\\n",
    "     PCeffloss, readNoise_w_gain\\\n",
    "   = fl.getReadNoiseandPCeffloss(detCamRead, detPCthreshold, isPhotonCounting, frameTime, detEMgain)\n",
    "det_CTE = CTE_clocking_efficiency * CTE_traps\n",
    "\n",
    "signal_region_electron_rate, det_PC_threshold_efficiency,\\\n",
    "    det_PC_coincid_effic, det_hotPix, det_cosmicRays, dQE\\\n",
    "    = fl.getdetdQE( det_CTE, PCeffloss, hotPix,\\\n",
    "            signalPerPixPerFrame, detPixAcross, CRtailLen, CRhitsPerFrame,\\\n",
    "                QE_adjust, det_QE)\n",
    "\n",
    "planetRate_proc, speckleRate_proc, zodiRate_proc,\\\n",
    "            ezo_bkgRate, lzo_bkgRate, residSpecRate\\\n",
    "    = fl.getNoiseVarianceRatesI( f_SR, starFlux, planetFlux, colArea, rawContrast, \\\n",
    "          thpt_t_pnt, thpt_t_speckle, thpt_tau_pk, CGintmpix, k_pp_CBE,\\\n",
    "                 dQE, rate_exoZodi_incPht, rate_loZodi_incPht,\\\n",
    "                     selDeltaC)"
   ]
  },
  {
   "cell_type": "code",
   "execution_count": null,
   "id": "f185b021",
   "metadata": {},
   "outputs": [],
   "source": [
    "intTimeDutyFactor, allocTinteg, usableTinteg = fl.intTime(perfLevel,scenarioDF)   \n",
    "\n",
    "Kappa = SNR_for_NEFR/(f_SR*starFlux*colArea*thpt_t_pnt*dQE\\\n",
    "                      *usableTinteg)/uc.ppb\n",
    "\n",
    "strayLight, strayLight_FRN, strayLight_ph_pix_s,\\\n",
    "    strayLight_ph_pix_h, strayLight_e_pix_h =\\\n",
    "        fl.getStrayLightFRN(scenario, perfLevel, STRAY_FRN_Data, CG_Data, IWA, OWA,\\\n",
    "                 opMode, DET_CBE_Data, ENF, detPixSize, mpix, dQE, Kappa,\\\n",
    "                      usableTinteg, hostStar_type, inBandFlux0_sum,\\\n",
    "                          f_SR, CGintmpix, colArea, thpt_t_speckle)\n",
    "\n",
    "totNoiseVarRate, readNoiseRate, luminesRate, noiseVarRate_perSNRregion,\\\n",
    "    CIC_RNLK_noiseRate, darkNoiseRate, zodi_shot, speckle_shot, planet_shot=\\\n",
    "        fl.getNoiseVarianceRatesII(planetRate_proc, speckleRate_proc, zodiRate_proc,\\\n",
    "        ezo_bkgRate, lzo_bkgRate, residSpecRate, rate_planet_imgArea, ENF,\\\n",
    "            DarkCur_epoch_per_s, readNoise_leakage_in_current_units,\\\n",
    "            mpix, det_CIC_in_DC_units, readNoise, frameTime, isPhotonCounting,\\\n",
    "                k_sp, k_lzo, k_ezo, k_det, dQE, strayLight_ph_pix_s)\n",
    "\n",
    "\n",
    "# ## Calculations for Specified Planet\n",
    "# Substitute for usableTinteg:\n",
    "usableTmini = 0.71 * 60 * 60"
   ]
  },
  {
   "cell_type": "code",
   "execution_count": null,
   "id": "3736d4e3",
   "metadata": {},
   "outputs": [],
   "source": [
    "instaPlanetDF1 = fl.DRMinstaplanet(planetRate_proc, usableTinteg, totNoiseVarRate,\\\n",
    "                             residSpecRate, SNRtarget)\n",
    "timetoSNR = instaPlanetDF1.loc[0,'Value']\n",
    "print(f'Time to {SNRtarget} SNR = {timetoSNR:5.2f} hrs')\n",
    "round(instaPlanetDF1,2)\n",
    "\n",
    "\n",
    "# ### Reverse Calculation -- SNR in allowed time"
   ]
  },
  {
   "cell_type": "markdown",
   "id": "5fcdfe8b",
   "metadata": {},
   "source": [
    "### Reverse Calculation -- SNR in allowed time"
   ]
  },
  {
   "cell_type": "code",
   "execution_count": null,
   "id": "b0995acd",
   "metadata": {},
   "outputs": [],
   "source": [
    "# 2 Knobs to Turn:\n",
    "allocatedTinteg = 100 # allocated integration time in hours\n",
    "usableFrac      = 1 # usable fraction\n",
    "\n",
    "usableTinteg = allocatedTinteg * usableFrac *3600\n",
    "print(f'Usable Integration Time (usable) = {usableTinteg:5.2f} seconds')\n",
    "instaPlanetDF2 = fl.DRMinstaplanet(planetRate_proc, usableTinteg,\\\n",
    "                                                totNoiseVarRate, residSpecRate, SNRtarget)\n",
    "SNRinAllowedTime = instaPlanetDF2.loc[5,'Value']\n",
    "print(f'SNR in allowed time = {SNRinAllowedTime:5.2f}')\n",
    "round(instaPlanetDF2,2)\n",
    "\n",
    "\n",
    "# ## Planet Sensitivity\n",
    "\n",
    "# ### N-Sigma Sensitivity"
   ]
  },
  {
   "cell_type": "markdown",
   "id": "b5396693",
   "metadata": {},
   "source": [
    "## Planet Sensitivity"
   ]
  },
  {
   "cell_type": "code",
   "execution_count": null,
   "id": "0dd903b5",
   "metadata": {},
   "outputs": [],
   "source": [
    "# Constrast Stability for Mission CBE\n",
    "selDeltaC, selContrast, SystematicCont, initStatRawContrast,\\\n",
    "    rawContrast, IntContStab, ExtContStab\\\n",
    "        = fl.contrastStabilityPars( CSprefix, planetWA, CS_Data)"
   ]
  },
  {
   "cell_type": "code",
   "execution_count": null,
   "id": "8826b8e4",
   "metadata": {},
   "outputs": [],
   "source": [
    "thpt_t_obsc = THPT_Data.df.at[0,'Pupil_Transmission']\n",
    "\n",
    "colArea =((math.pi/4)*DPM**2)*thpt_t_obsc\n",
    "\n",
    "thpt_OTA_TCA = THPT_Data.df.at[0,\"CBE_OTAplusTCA\"]\n",
    "thpt_CGI = THPT_Data.df.at[0,\"CBE_CGI\"]\n",
    "thpt_t_core = CGcoreThruput\n",
    "thpt_tau_pk = PSFpeakI\n",
    "\n",
    "try:\n",
    "    thpt_t_PSF =  thpt_t_core/thpt_t_occ\n",
    "except:\n",
    "    thpt_t_PSF = 0\n",
    "\n",
    "thpt_t_refl = thpt_OTA_TCA * thpt_CGI;\n",
    "\n",
    "thpt_t_unif = thpt_t_occ * thpt_t_refl * thpt_t_pol\n",
    "\n",
    "thpt_t_speckle = thpt_t_refl * thpt_t_pol\n",
    "\n",
    "thpt_bkgLimitedCore = thpt_t_core/ math.sqrt( thpt_coreArea_LamD )"
   ]
  },
  {
   "cell_type": "code",
   "execution_count": null,
   "id": "7f4e7201",
   "metadata": {},
   "outputs": [],
   "source": [
    "# Back to DRMgetSNRvals\n",
    "f_SR, CritLam, detPixSize_m, mpix, pixPlateSc\\\n",
    "    = fl.getFocalPlaneAttributes(opMode, scenarioDF, DET_CBE_Data, lam, bandWidth,\\\n",
    "                        DPM, CGdesignWL, omegaPSF)\n",
    "\n",
    "inBandFlux0_sum, inBandZeroMagFlux, starFlux\\\n",
    "    = fl.getSpectra(target, lam, bandWidth)\n",
    "\n",
    "fluxRatio, planetFlux = fl.getFluxRatio(target, starFlux)"
   ]
  },
  {
   "cell_type": "markdown",
   "id": "ed8725c3",
   "metadata": {},
   "source": [
    "### N-Sigma Sensitivity"
   ]
  },
  {
   "cell_type": "code",
   "execution_count": null,
   "id": "726af7ff",
   "metadata": {},
   "outputs": [],
   "source": [
    "# fl.getrefStarRDI\n",
    "RefStarAbsMag = RefStarVmag_CBE - 5*math.log10(RefStarDist/10)\n",
    "RefStarinBandZeroMagFlux = inBandFlux0_sum.at[RefStarSpecType]\n",
    "RefStarDeltaMag = target.v_mag - RefStarVmag_CBE\n",
    "RefStarFlux = RefStarinBandZeroMagFlux*(10**((-0.4)*RefStarVmag_CBE))\n",
    "BrightnessRatio = RefStarFlux/starFlux\n",
    "\n",
    "# percentage of time on reference star\n",
    "betaRDI = 1 / (BrightnessRatio*timeOnRef)\n",
    "\n",
    "k_sp = 1 + betaRDI\n",
    "k_det = 1 + betaRDI**2 * timeOnRef\n",
    "k_lzo = k_det\n",
    "k_ezo = k_sp\n",
    "\n",
    "v_sp = math.sqrt(betaRDI)\n",
    "v_det = betaRDI * math.sqrt(timeOnRef)\n",
    "v_lzo = betaRDI * math.sqrt(timeOnRef)\n",
    "v_ezo = math.sqrt(betaRDI)"
   ]
  },
  {
   "cell_type": "code",
   "execution_count": null,
   "id": "3943f6fc",
   "metadata": {},
   "outputs": [],
   "source": [
    "absMag = target.v_mag - 5 * math.log10(target.dist_pc / 10)\n",
    "\n",
    "# zodi solid angular flux in units of ph/s/m**2/arcsec**2\n",
    "loZodiAngFlux =  inBandZeroMagFlux *10**((-0.4)* magLocalZodi) \n",
    "exoZodiAngFlux = target.exoZodi * inBandZeroMagFlux * \\\n",
    "              10**(-0.4*(absMag-uc.sunAbsMag+magExoZodi_1AU)) / (target.sma_AU**2)\n",
    "\n",
    "ZodiFlux    = (loZodiAngFlux + exoZodiAngFlux) * omegaPSF\n",
    "loZodiFlux  = loZodiAngFlux * omegaPSF\n",
    "exoZodiFlux = exoZodiAngFlux * omegaPSF\n",
    "\n",
    "\n",
    "# #### Non-Stellar Light Rates"
   ]
  },
  {
   "cell_type": "code",
   "execution_count": null,
   "id": "08edbd46",
   "metadata": {},
   "outputs": [],
   "source": [
    "# getNoiseRates\n",
    "rate_planet_imgArea = f_SR * starFlux * fluxRatio * colArea * thpt_t_pnt * det_QE\n",
    "rate_exoZodi_incPht = f_SR * exoZodiFlux * colArea * thpt_t_unif\n",
    "rate_loZodi_incPht =  f_SR * loZodiFlux * colArea * thpt_t_unif \n",
    "rate_Zodi_imgArea = (rate_exoZodi_incPht + rate_loZodi_incPht)*det_QE\n",
    "\n",
    "# speckleRate_imgArea\n",
    "rate_speckleBkg = f_SR * starFlux * rawContrast * uc.ppb * thpt_tau_pk * \\\n",
    "    CGintmpix * colArea * thpt_t_speckle  * det_QE \n",
    "\n",
    "# total rate pixel with planet\n",
    "rate_photoConverted = DarkCur_epoch_per_s + \\\n",
    "    (rate_planet_imgArea + rate_Zodi_imgArea + rate_speckleBkg )/mpix\n",
    "# Why divide other values by mpix and not Dark Current?\n",
    "rate_totalwithoutplanet =  DarkCur_epoch_per_s + (rate_Zodi_imgArea +\\\n",
    "                                                  rate_speckleBkg )/mpix"
   ]
  },
  {
   "cell_type": "code",
   "execution_count": null,
   "id": "3c1e204d",
   "metadata": {},
   "outputs": [],
   "source": [
    "noise_rates =\\\n",
    "pd.DataFrame({f'{scenario}':['Planet Signal rate',\\\n",
    "                             'Exo Zodi rate',\\\n",
    "                             'Local Zodi rate',\\\n",
    "                             'Combined Zodi rate',\\\n",
    "                             'Speckle Background rate',\\\n",
    "                             'Average PSF rate w Planet',\\\n",
    "                             'Average PSF rate w/o Planet'],\\\n",
    "                    'Per core':[rate_planet_imgArea,\\\n",
    "                                rate_exoZodi_incPht,\\\n",
    "                                rate_loZodi_incPht,\\\n",
    "                                rate_Zodi_imgArea,\\\n",
    "                                rate_speckleBkg,\\\n",
    "                                rate_photoConverted*mpix,\\\n",
    "                                rate_totalwithoutplanet*mpix],\\\n",
    "                    'Per pixel':[rate_planet_imgArea/mpix,\\\n",
    "                                 rate_exoZodi_incPht/mpix,\\\n",
    "                                 rate_loZodi_incPht/mpix,\\\n",
    "                                 rate_Zodi_imgArea/mpix,\\\n",
    "                                 rate_speckleBkg/mpix,\\\n",
    "                                 rate_photoConverted,\\\n",
    "                                 rate_totalwithoutplanet],\\\n",
    "              'Units':['e-/s','ph/s','ph/s','e-/s','e-/s','e-/s','e-/s']})\n",
    "noise_rates = noise_rates.style.format({\"Value\": \"{:.2e}\"})\n",
    "noise_rates"
   ]
  },
  {
   "cell_type": "code",
   "execution_count": null,
   "id": "13c8ca14",
   "metadata": {},
   "outputs": [],
   "source": [
    "# getFrameExposureTime\n",
    "detEMgain = DET_CBE_Data.df.at[0,'EMGain'] # Electron multiplication gain\n",
    "\n",
    "# maximum frame exposure time for analog\n",
    "maxANLGt_fr= 0.9*FWC_gr/(3*detEMgain*rate_totalwithoutplanet)\n",
    "\n",
    "frameTime_ANLG = min(maxANLGt_fr,100)\n",
    "\n",
    "# calculated frame exposure time for photon counting opt frame\n",
    "maxPCt_fr = round(min(80, max(3, 0.1/rate_photoConverted)))\n",
    "\n",
    "if isPhotonCounting:    \n",
    "    frameTime = maxPCt_fr\n",
    "else: # analog\n",
    "    frameTime = frameTime_ANLG"
   ]
  },
  {
   "cell_type": "code",
   "execution_count": null,
   "id": "834b0ff5",
   "metadata": {},
   "outputs": [],
   "source": [
    "# getDetectorCIC\n",
    "detCICdegradationEOM = DET_CBE_Data.df.at[0,'CICdegradationEOM']\n",
    "detCIC1 = DET_CBE_Data.df.at[0,'CICatGain1BOM_e_per_pix_per_fr']\n",
    "detCIC2 = DET_CBE_Data.df.at[0,'CICatGain2BOM_e_per_pix_per_fr']\n",
    "detCICgain1 = DET_CBE_Data.df.at[0,'Gain1BOM']\n",
    "detCICgain2 = DET_CBE_Data.df.at[0,'Gain2BOM']\n",
    "\n",
    "det_CIC_gain = ((detCIC2 - detCIC1)/(detCICgain2 - detCICgain1))*detEMgain\\\n",
    "    +(detCIC1-((detCIC2 - detCIC1)/(detCICgain2 - detCICgain1))*detCICgain1)\\\n",
    "        *(1 + missionFraction*(detCICdegradationEOM-1))\n",
    "det_CIC_at_epoch = CIC_adjust*det_CIC_gain\n",
    "det_CIC_in_DC_units = det_CIC_at_epoch/frameTime"
   ]
  },
  {
   "cell_type": "code",
   "execution_count": null,
   "id": "404ae91e",
   "metadata": {},
   "outputs": [],
   "source": [
    "# getDetectorCosmicRays\n",
    "# Cosmic Ray Tail Length\n",
    "detCRtailGain1 = DET_CBE_Data.df.at[0,'CRtailGain1']\n",
    "detCRtailGain2 = DET_CBE_Data.df.at[0,'CRtailGain2']\n",
    "detCRtailLen1 = DET_CBE_Data.df.at[0,'CRtailLen1_pix']\n",
    "detCRtailLen2 = DET_CBE_Data.df.at[0,'CRtailLen2_pix']\n",
    "CRtailLen = ((detCRtailLen2-detCRtailLen1)/(detCRtailGain2-detCRtailGain1))*detEMgain+(detCRtailLen2- ((detCRtailLen2-detCRtailLen1)/(detCRtailGain2-detCRtailGain1))*detCRtailGain2)\n",
    "CRrate = 5*(100**2) # rays/s/m^2  \n",
    "detPixSize = DET_CBE_Data.df.at[0,'PixelSize_m']\n",
    "detPixAcross = DET_CBE_Data.df.at[0,'PixelsAcross_pix']\n",
    "CRhitsPerFrame = CRrate * frameTime * (detPixSize * detPixAcross)**2 # Cosmic Rays per frame"
   ]
  },
  {
   "cell_type": "code",
   "execution_count": null,
   "id": "aca8d5dc",
   "metadata": {},
   "outputs": [],
   "source": [
    "# getCTE\n",
    "detFluxSlope = DET_CBE_Data.df.at[0,'CTE_FluxSlope_per_log_of_flux_per_e_per_pix_per_s']\n",
    "detFluxKnee = DET_CBE_Data.df.at[0,'CTE_dqeKneeFlux_e_per_pix_per_s']\n",
    "signalPerPixPerFrame = rate_photoConverted*frameTime\n",
    "CTE_traps = min(1,max(0,(detFluxSlope*missionFraction)\\\n",
    "                          *(math.log10(signalPerPixPerFrame)-math.log10(detFluxKnee)) +1))\n",
    "detGen = float(DET_CBE_Data.df.at[0,'Generation'])\n",
    "if detGen > 3:\n",
    "    detCTEclk = DET_CBE_Data.df.at[0,'CTI_clk']\n",
    "    detCTExfers = DET_CBE_Data.df.at[0,'CTI_xfers']\n",
    "    CTE_clocking_efficiency = (1-detCTEclk)**detCTExfers\n",
    "else:\n",
    "    CTE_clocking_efficiency = 1"
   ]
  },
  {
   "cell_type": "code",
   "execution_count": null,
   "id": "a1a1b4c3",
   "metadata": {},
   "outputs": [],
   "source": [
    "# getHotPixels\n",
    "hotPixFrac = DET_CBE_Data.df.at[0,'HotPixFrac']\n",
    "hotPix = hotPixFrac*missionFraction"
   ]
  },
  {
   "cell_type": "code",
   "execution_count": null,
   "id": "9d9db033",
   "metadata": {},
   "outputs": [],
   "source": [
    "# getENF\n",
    "if isPhotonCounting:\n",
    "    ENF = 1\n",
    "else:\n",
    "    ENF = math.sqrt(2)"
   ]
  },
  {
   "cell_type": "code",
   "execution_count": null,
   "id": "2981135b",
   "metadata": {},
   "outputs": [],
   "source": [
    "# getReadNoiseandPCeffloss\n",
    "detCamRead = DET_CBE_Data.df.at[0,'ReadNoise_e']\n",
    "readNoise_w_gain = detCamRead/detEMgain # read noise with gain if analog\n",
    "if isPhotonCounting:\n",
    "    readNoise = 0 # Minimal read noise with photon counting\n",
    "    PCeffloss = 1 - math.exp( -detPCthreshold*detCamRead/detEMgain)\n",
    "else:\n",
    "    readNoise = readNoise_w_gain # read noise with gain if analog\n",
    "    PCeffloss = 0\n",
    "readNoise_leakage = 0.5*math.erfc((detPCthreshold/math.sqrt(2)))\n",
    "readNoise_leakage_in_current_units = readNoise_leakage/frameTime"
   ]
  },
  {
   "cell_type": "code",
   "execution_count": null,
   "id": "e8c7a146",
   "metadata": {},
   "outputs": [],
   "source": [
    "# getdetCTE\n",
    "det_CTE = CTE_clocking_efficiency * CTE_traps"
   ]
  },
  {
   "cell_type": "code",
   "execution_count": null,
   "id": "d9be6aa0",
   "metadata": {},
   "outputs": [],
   "source": [
    "# getdetdQE\n",
    "det_PC_threshold_efficiency = 1 - PCeffloss\n",
    "signal_region_electron_rate = signalPerPixPerFrame * det_CTE\n",
    "\n",
    "# Photon-counting coincidence efficiency \n",
    "det_PC_coincid_effic = (1 - math.exp(-signal_region_electron_rate))\\\n",
    "    / (signal_region_electron_rate)\n",
    "\n",
    "# Efficiency after subtracting fraction lost to hot pixels\n",
    "det_hotPix = 1 - hotPix\n",
    "\n",
    "det_cosmicRays = 1 - CRhitsPerFrame * CRtailLen/(detPixAcross**2)\n",
    "dQE = det_QE * det_CTE * det_PC_threshold_efficiency * \\\n",
    "        det_PC_coincid_effic * det_hotPix * det_cosmicRays * QE_adjust"
   ]
  },
  {
   "cell_type": "code",
   "execution_count": null,
   "id": "b074370b",
   "metadata": {},
   "outputs": [],
   "source": [
    "# getNoiseVarianceRatesI\n",
    "planetRate_proc = f_SR*planetFlux*colArea*thpt_t_pnt*dQE\n",
    "\n",
    "speckleRate_proc = f_SR * starFlux * rawContrast * thpt_tau_pk\\\n",
    "     * CGintmpix * thpt_t_speckle * colArea * dQE * uc.ppb\n",
    "\n",
    "ezo_bkgRate = rate_exoZodi_incPht * dQE\n",
    "lzo_bkgRate = rate_loZodi_incPht * dQE\n",
    "zodiRate_proc = ezo_bkgRate + lzo_bkgRate\n",
    "\n",
    "residSpecRate =  f_SR * starFlux * (selDeltaC/k_pp_CBE) *\\\n",
    "     thpt_tau_pk * CGintmpix * thpt_t_speckle * colArea * dQE \n",
    "\n",
    "# Next - display & describe values from cell above; initially copied from display of first cell in 1.4.1.1\n",
    "noiseVar_rates =\\\n",
    "pd.DataFrame({f'{scenario}':['Planet rate',\\\n",
    "                             'Exo Zodi rate',\\\n",
    "                             'Local Zodi rate',\\\n",
    "                             'Combined Zodi rate',\\\n",
    "                             'Speckle Background rate',\\\n",
    "                             'Average PSF rate w Planet',\\\n",
    "                             'Average PSF rate w/o Planet'],\\\n",
    "                    'Value':[planetRate_proc,\\\n",
    "                             rate_exoZodi_incPht,\\\n",
    "                             rate_loZodi_incPht,\\\n",
    "                             rate_Zodi_imgArea,\\\n",
    "                             rate_speckleBkg,\\\n",
    "                             rate_photoConverted,\\\n",
    "                             rate_totalwithoutplanet],\\\n",
    "              'Units':['e-/s','ph/s','ph/s','e-/s','e-/s','e-/s','e-/s']})\n",
    "noiseVar_rates = noiseVar_rates.style.format({\"Value\": \"{:.2e}\"})\n",
    "noiseVar_rates"
   ]
  },
  {
   "cell_type": "code",
   "execution_count": null,
   "id": "3d8e827f",
   "metadata": {},
   "outputs": [],
   "source": [
    "# intTime\n",
    "intTimeDutyFactor = scenarioDF.at['DutyFactor_CBE','Latest']\n",
    "allocTinteg = scenarioDF.at['t_max_hrs','Latest']   \n",
    "# Integration Time in seconds\n",
    "usableTinteg = allocTinteg * intTimeDutyFactor * uc.hour"
   ]
  },
  {
   "cell_type": "code",
   "execution_count": null,
   "id": "43440452",
   "metadata": {},
   "outputs": [],
   "source": [
    "Kappa = SNR_for_NEFR/(f_SR*starFlux*colArea*thpt_t_pnt*dQE\\\n",
    "                      *usableTinteg)/uc.ppb"
   ]
  },
  {
   "cell_type": "code",
   "execution_count": null,
   "id": "03d64204",
   "metadata": {},
   "outputs": [],
   "source": [
    "# getStrayLightFRN\n",
    "try:\n",
    "    strayLight = fl.getStrayLightfromfile(scenario, perfLevel, STRAY_FRN_Data)\n",
    "except:\n",
    "    photonRateFlux = fl.getStrayLight_luminescenceBackground(perfLevel,opMode,\\\n",
    "                                                          DET_CBE_Data,\\\n",
    "                                                              mpix, dQE, False)\n",
    "    leakageRateSL, leakageRate, strayLightBackground\\\n",
    "        = fl.getStrayLight_companionStarBackground(hostStar_type,\\\n",
    "                                                          IWA, OWA, CG_Data,\\\n",
    "                                      detPixSize, inBandFlux0_sum, f_SR,\\\n",
    "                                          CGintmpix, usableTinteg, mpix,\\\n",
    "                                          colArea, thpt_t_speckle, dQE, False)\n",
    "    strayLight,_,_,_,_,_,_ = fl.getStrayLightfromcalc(CG_Data, photonRateFlux,\\\n",
    "                                                     leakageRateSL, IWA, OWA)\n",
    "\n",
    "# This is the flux ratio noise from stray light:\n",
    "strayLight_FRN = Kappa * math.sqrt(ENF**2 * strayLight * 1000000 \\\n",
    "                               * detPixSize**2 * mpix * dQE * usableTinteg) \n",
    "strayLight_ph_pix_s = strayLight * 1000000 * detPixSize**2\n",
    "strayLight_ph_pix_h = strayLight_ph_pix_s * 3600\n",
    "strayLight_e_pix_h = strayLight_ph_pix_h * dQE"
   ]
  },
  {
   "cell_type": "code",
   "execution_count": null,
   "id": "db5a0bde",
   "metadata": {},
   "outputs": [],
   "source": [
    "# getNoiseVarianceRatesII\n",
    "planet_shot = planetRate_proc * ENF**2\n",
    "speckle_shot = speckleRate_proc * ENF**2\n",
    "zodi_shot = zodiRate_proc * ENF**2\n",
    "darkNoiseRate = mpix * DarkCur_epoch_per_s * ENF**2\n",
    "if isPhotonCounting:\n",
    "    CIC_RNLK_noiseRate = ENF**2*mpix*(det_CIC_in_DC_units +\\\n",
    "                                      readNoise_leakage_in_current_units)\n",
    "else:\n",
    "    CIC_RNLK_noiseRate = ENF**2*mpix*(det_CIC_in_DC_units)\n",
    "\n",
    "noiseVarRate_perSNRregion = strayLight_ph_pix_s * mpix * dQE    \n",
    "luminesRate = noiseVarRate_perSNRregion * ENF**2\n",
    "\n",
    "readNoiseRate = (mpix/frameTime) * readNoise**2   \n",
    "\n",
    "totNoiseVarRate = ENF**2 * (rate_planet_imgArea + k_sp * speckleRate_proc +\\\n",
    "                             k_lzo * lzo_bkgRate + k_ezo * ezo_bkgRate ) +\\\n",
    "                k_det * (darkNoiseRate + CIC_RNLK_noiseRate + luminesRate) +\\\n",
    "                k_det * readNoiseRate"
   ]
  },
  {
   "cell_type": "code",
   "execution_count": null,
   "id": "1e07835a",
   "metadata": {},
   "outputs": [],
   "source": [
    "# Noise rates for planet sensitivity\n",
    "\n",
    "nonPlanetVarRate, nonpl_random, tot_nonpl_noise, N_sigmaSens =\\\n",
    "fl.DRM_planetSens_Nsigma(residSpecRate, usableTinteg, ENF, k_sp, speckleRate_proc,\\\n",
    "                         k_lzo, lzo_bkgRate, k_ezo, ezo_bkgRate, k_det,\\\n",
    "                             darkNoiseRate, CIC_RNLK_noiseRate, readNoiseRate,\\\n",
    "                                SNRtarget, Kappa)\n",
    "\n",
    "print(f'At planet WA = {planetWA} lam/D,',end='')\n",
    "print(f' and star v mag = {target.v_mag}, N-sigma Sensitivity = {N_sigmaSens}')     \n",
    "\n",
    "\n",
    "# ### Contributions to Planet Sensitivity and FRN"
   ]
  },
  {
   "cell_type": "markdown",
   "id": "3d273161",
   "metadata": {},
   "source": [
    "### Contributions to Planet Sensitivity and FRN"
   ]
  },
  {
   "cell_type": "code",
   "execution_count": null,
   "id": "2994c59b",
   "metadata": {},
   "outputs": [],
   "source": [
    "# Calculates the FRN sensitivity and contributors to the sensitivity\n",
    "nonplanetRandom, SNRcheck, planet_implicit, speckle, zodi, dark, cicrnleakage, read\\\n",
    "= fl.DRM_planetSens_contribtoNsigmaSens(N_sigmaSens, tot_nonpl_noise, ENF,\\\n",
    "                                       k_sp, speckleRate_proc, zodiRate_proc,\\\n",
    "                                k_det, darkNoiseRate, CIC_RNLK_noiseRate,\\\n",
    "                                   readNoiseRate, usableTinteg, f_SR,\\\n",
    "                                     starFlux, colArea, thpt_t_pnt, dQE)\n",
    "\n",
    "\n",
    "# ### N-sigma Sensitivity with Infinite Integration Time"
   ]
  },
  {
   "cell_type": "markdown",
   "id": "3db34b92",
   "metadata": {},
   "source": [
    "### N-sigma Sensitivity with Infinite Integration Time"
   ]
  },
  {
   "cell_type": "code",
   "execution_count": null,
   "id": "c2e48972",
   "metadata": {},
   "outputs": [],
   "source": [
    "tot_nonpl_noise_inftime, infiniteTimeSens =\\\n",
    "fl.DRM_planetSens_NsigmaSensInfiniteTime(k_det, readNoiseRate, usableTinteg,\\\n",
    "                                          nonpl_random, SNRtarget,\\\n",
    "                                         residSpecRate, Kappa)\n",
    "\n",
    "print(f'N-sigma Sensitivity with Infinite time = {infiniteTimeSens:11.10e}') # NEED TO CHECK"
   ]
  },
  {
   "cell_type": "code",
   "execution_count": null,
   "id": "4eb9bb62",
   "metadata": {},
   "outputs": [],
   "source": [
    "res_Speckle, randomNoiseRate, nonplrandom, totnonplnoise,\\\n",
    "        cstab, bde, totalFRN =\\\n",
    "fl.DRM_planetSens_calcFRN(ENF, k_sp, k_lzo, k_ezo, k_det, lzo_bkgRate, \\\n",
    "                           ezo_bkgRate, darkNoiseRate, CIC_RNLK_noiseRate,\\\n",
    "                               readNoiseRate, residSpecRate, speckleRate_proc,\\\n",
    "                                   usableTinteg, Kappa)\n",
    "\n",
    "\n",
    "# #### Non-Planetary Noise"
   ]
  },
  {
   "cell_type": "code",
   "execution_count": null,
   "id": "4a32fd6b",
   "metadata": {},
   "outputs": [],
   "source": [
    "planetSensdf1 =\\\n",
    "pd.DataFrame({f'{scenario}':['Star Vmag',\\\n",
    "                             'Pl. Separation',\\\n",
    "                             'Pl. Wrk. Angle','SNR',\\\n",
    "                             'Integ Time', 'post proc gain',\\\n",
    "                             'res. Speckle','Planet implicit',\\\n",
    "                             'speckle','zodi','Dark',\\\n",
    "                             'CIC + RN Leakage', 'Read',\\\n",
    "                             'non-pl random','tot nonpl noise',\\\n",
    "                             'N-sigma Sens'],\\\n",
    "                             'Value':[target.v_mag,\\\n",
    "                                       sep_mas,\\\n",
    "                                       planetWA,\\\n",
    "                                       SNRtarget, allocTinteg,\\\n",
    "                                       k_pp_CBE,\\\n",
    "                                       res_Speckle,\\\n",
    "                                       planet_implicit, speckle,\\\n",
    "                                       zodi, dark,\\\n",
    "                                       cicrnleakage, read,\\\n",
    "                                       nonpl_random,\\\n",
    "                                       tot_nonpl_noise,\\\n",
    "                                     f'{N_sigmaSens:3.2e}'],\\\n",
    "              'Units':['mag','mas','lam/D','SNR','hrs','k_pp',\\\n",
    "                      'e-','e-','e-','e-','e-','e-','e-','e-',\\\n",
    "                       'e- ($\\\\sigma$_o)','minimum']})\n",
    "planetSensdf1\n",
    "#pd.set_option('display.float_format', lambda x: '%3.2f' % x)"
   ]
  },
  {
   "cell_type": "code",
   "execution_count": null,
   "id": "7a9db25a",
   "metadata": {},
   "outputs": [],
   "source": [
    "planetSensdf2 =\\\n",
    "pd.DataFrame({f'{scenario}':['SNR check',\\\n",
    "                             'nonPlanetVarRate',\\\n",
    "                             'non-pl random above',\\\n",
    "                             'non-pl random',\\\n",
    "                             'res. Speckle',\\\n",
    "                             'tot nonpl noise',\\\n",
    "                             'Infinite time sensitivity'],\\\n",
    "                             'Value':[SNRcheck,\\\n",
    "                                       nonPlanetVarRate,\\\n",
    "                                       nonplanetRandom,\\\n",
    "                                       nonpl_random,\\\n",
    "                                       res_Speckle,\\\n",
    "                                       tot_nonpl_noise_inftime,\\\n",
    "                                      f'{infiniteTimeSens:3.2e}'],\\\n",
    "              'Units':['','e/SR/s','for checking','e-',\\\n",
    "                       'e-', 'e- ($\\\\sigma$_o)','']})\n",
    "planetSensdf2 \n",
    "#pd.set_option('display.float_format', lambda x: '%3.2f' % x)"
   ]
  },
  {
   "cell_type": "code",
   "execution_count": null,
   "id": "3bce026f",
   "metadata": {},
   "outputs": [],
   "source": [
    "planetSensdf3 =\\\n",
    "pd.DataFrame({f'{scenario}':['Star Vmag',\\\n",
    "                             'Pl. Separation',\\\n",
    "                             'Pl. Wrk. Angle','SNR',\\\n",
    "                             'Integ Time', 'resid. Spckle',\\\n",
    "                             'res. Speckle',\\\n",
    "                             'non-pl random',\\\n",
    "                             'tot nonpl noise',\\\n",
    "                             'C Stab.','BDE','Total'],\\\n",
    "                             'Value':[ target.v_mag,\\\n",
    "                                       sep_mas,\\\n",
    "                                       planetWA,\\\n",
    "                                       SNRtarget, allocTinteg,\\\n",
    "                                       k_pp_CBE,\\\n",
    "                                       res_Speckle,\\\n",
    "                                       nonpl_random,\\\n",
    "                                       tot_nonpl_noise,\\\n",
    "                                       cstab, bde, totalFRN],\\\n",
    "              'Units':['mag','mas','lam/D','SNR','hrs','k_pp',\\\n",
    "                      'e-','e-','e- ($\\\\sigma$_o)','ppb','ppb','ppb']})\n",
    "planetSensdf3"
   ]
  },
  {
   "cell_type": "markdown",
   "id": "927ca67d",
   "metadata": {},
   "source": [
    "### Plot of N-sigma Sensitivities for Finite and Infinite Time"
   ]
  },
  {
   "cell_type": "code",
   "execution_count": null,
   "id": "19d3779b-e390-4ee8-8358-fbac16921047",
   "metadata": {},
   "outputs": [],
   "source": [
    "# TRY TO CONSOLIDATE ALL DATA into one dataframe\n",
    "\n",
    "planetSensdf4 =\\\n",
    "pd.DataFrame({f'{scenario}':['Star Vmag',\\\n",
    "                             'Pl. Separation',\\\n",
    "                             'Pl. Wrk. Angle','SNR',\\\n",
    "                             'Integ Time', 'post proc gain',\\\n",
    "                             'res. Speckle','Planet implicit',\\\n",
    "                             'speckle','zodi','Dark',\\\n",
    "                             'CIC + RN Leakage', 'Read',\\\n",
    "                             'non-pl random','tot nonpl noise',\\\n",
    "                             'N-sigma Sens','SNR check',\\\n",
    "                             'nonPlanetVarRate',\\\n",
    "                             'non-pl random above',\\\n",
    "                             'Infinite time sensitivity',\\\n",
    "                            'C Stab.','BDE','Total'],\\\n",
    "                             'Value':[target.v_mag,\\\n",
    "                                       sep_mas,\\\n",
    "                                       planetWA,\\\n",
    "                                       SNRtarget, allocTinteg,\\\n",
    "                                       k_pp_CBE,\\\n",
    "                                       res_Speckle,\\\n",
    "                                       planet_implicit, speckle,\\\n",
    "                                       zodi, dark,\\\n",
    "                                       cicrnleakage, read,\\\n",
    "                                       nonpl_random,\\\n",
    "                                       tot_nonpl_noise,\\\n",
    "                                       f'{N_sigmaSens:3.2e}',\\\n",
    "                                       SNRcheck,\\\n",
    "                                       nonPlanetVarRate,\\\n",
    "                                       nonplanetRandom,\\\n",
    "                                      f'{infiniteTimeSens:3.2e}',\\\n",
    "                                     cstab, bde, totalFRN],\\\n",
    "              'Units':['mag','mas','lam/D','SNR','hrs','k_pp',\\\n",
    "                      'e-','e-','e-','e-','e-','e-','e-','e-',\\\n",
    "                       'e- ($\\\\sigma$_o)','minimum','','e/SR/s',\\\n",
    "                       'for checking','e- ($\\\\sigma$_o)',\\\n",
    "                       'ppb','ppb','ppb']})\n",
    "#pd.set_option('display.float_format', lambda x: '%3.2f' % x)\n",
    "planetSensdf4 \n",
    "\n",
    "\n",
    "# ### Plot of N-sigma Sensitivities for Finite and Infinite Time \n",
    "# User may select the start and end radial slices (inclusive) in \n",
    "# lambda/D which by default are the inner and outer working angles of the dark hole.  "
   ]
  },
  {
   "cell_type": "code",
   "execution_count": null,
   "id": "37ff7dc7-f9e2-4765-9374-a25588cd809c",
   "metadata": {},
   "outputs": [],
   "source": [
    "numWAs = 10 # number of radial slices including the IWA and OWA\n",
    "planetWAs_1 = np.linspace(IWA,OWA, numWAs)\n",
    "\n",
    "nsigmasens_finites_1 = []\n",
    "nsigmasens_infs = []\n",
    "separations_1 = []\n",
    "for planetWA_1 in planetWAs_1:\n",
    "    \n",
    "    nsigmasens_finite, nsigmasens_inf, separation,\\\n",
    "    planet_implicit, speckle, zodi, cstab, bde, total =\\\n",
    "    fl.DRM_planetSens_vals(scenarioDF, perfLevel, CSprefix, isPhotonCounting, target, planetWA, lamD, detPCthreshold)\n",
    "\n",
    "    nsigmasens_finites_1.append(nsigmasens_finite)\n",
    "    nsigmasens_infs.append(nsigmasens_inf)\n",
    "    separations_1.append(separation)\n",
    "\n",
    "\n",
    "NsigmaSensDF = pd.DataFrame(list(zip(planetWAs_1, nsigmasens_finites_1, nsigmasens_infs, separations_1)),\\\n",
    "                   columns = ['Working Angle','N-sigma Sens','N-sigma Sens Inf Time','sep (mas)'])\n",
    "round(NsigmaSensDF,4)"
   ]
  },
  {
   "cell_type": "code",
   "execution_count": null,
   "id": "898619bf",
   "metadata": {},
   "outputs": [],
   "source": [
    "fig, ax = plt.subplots(figsize=(9, 6))\n",
    "\n",
    "im1 = ax.plot(separations_1, nsigmasens_finites_1,'--bo')\n",
    "im2 = ax.plot(separations_1, nsigmasens_infs,'--ro')\n",
    "ax.set_title(f'{SNRtarget}-sigma {scenario} [{lam}nm, {usableTinteg/3600} hrs, PP = {k_pp_CBE}x]')\n",
    "ax.set_ylabel('Flux Ratio Detection Sensitivity,   ppb')\n",
    "ax.set_xlabel('Planet Separation,    milli-arseconds')\n",
    "plt.legend([f'V = {hostStar_vmag}','t = inf'], loc = 'upper right')\n",
    "plt.grid(True, which='both', linestyle='--', linewidth=0.5)  # Customize grid style\n",
    "\n",
    "# the time quoted is the usable target integration time (regardless of duty factor) \n",
    "datetime_string = current_datetime.strftime(\"%Y-%m-%d %H:%M:%S\")\n",
    "righttext = datetime_string + ' -- ' + scenario_filename \n",
    "# Add custom text\n",
    "plt.text(\n",
    "    1.02,           # x position (slightly right of axes)\n",
    "    0.5,            # y position (middle of figure)\n",
    "    righttext,  # your custom text (\\n for line break if needed)\n",
    "    transform=ax.transAxes,   # use axes coordinates\n",
    "    rotation=90,              # vertical text\n",
    "    verticalalignment='center',\n",
    "    horizontalalignment='center',\n",
    "    fontsize=9,\n",
    "    color = 'gray'\n",
    ")\n",
    "plt.show()\n",
    "# Adjust layout to prevent clipping\n",
    "#plt.tight_layout()\n",
    "\n",
    "\n",
    "# Caveat: Planet sensitivity calculation is approximate and same albedo is used to get same frame time for all working angles\n",
    "\n",
    "# ### Flux Ratio Noise\n",
    "# Calculating flux ratio noise in case question comes up whether the annular zone we have selected is adequately representative of behavior near IWA"
   ]
  },
  {
   "cell_type": "markdown",
   "id": "dc01a1d7",
   "metadata": {},
   "source": [
    "### Flux Ratio Noise"
   ]
  },
  {
   "cell_type": "code",
   "execution_count": null,
   "id": "9b62d7e9",
   "metadata": {},
   "outputs": [],
   "source": [
    "planetWAs_2 = [3.1,3.5,4.0,4.5,5.0,5.5,6.0,6.5,7.0,7.5,8.0]\n",
    "separations_2 = []\n",
    "cstabs = []\n",
    "bdes = []\n",
    "totals = []\n",
    "for m in range(11):\n",
    "\n",
    "    planetWA_2 = planetWAs_2[m]\n",
    "    planetWA_2 = max(IWA, min(planetWA_2, OWA))\n",
    "    planetWAs_2[m] = planetWA_2\n",
    "    nsigmasens_finite, nsigmasens_inf, separation,\\\n",
    "    planet_implicit, speckle, zodi, cstab, bde, total =\\\n",
    "    fl.DRM_planetSens_vals(scenarioDF, perfLevel, CSprefix,\\\n",
    "                       isPhotonCounting, target, planetWA, lamD, detPCthreshold)\n",
    "\n",
    "    separations_2.append(separation)\n",
    "    cstabs.append(cstab)\n",
    "    bdes.append(bde)\n",
    "    totals.append(total)\n",
    "\n",
    "\n",
    "FRN_df = pd.DataFrame(list(zip(separations_2,planetWAs_2,\\\n",
    "                               cstabs,bdes,totals)),\\\n",
    "                      columns = ['sep(mas)','WA','C Stab.','BDE','Total'])\n",
    "FRN_df"
   ]
  },
  {
   "cell_type": "code",
   "execution_count": null,
   "id": "e3be8675",
   "metadata": {},
   "outputs": [],
   "source": [
    "fig, ax = plt.subplots(figsize=(8,4))\n",
    "\n",
    "im1 = ax.plot(separations_2, cstabs,'--o')\n",
    "im2 = ax.plot(separations_2, bdes,'--o')\n",
    "im3 = ax.plot(separations_2, totals,'--o')\n",
    "ax.set_title(f'FRN {scenario} [{lam}nm, {usableTinteg/3600} hrs, PP = {k_pp_CBE}x]')\n",
    "ax.set_ylabel('Flux Ratio Noise,   ppb')\n",
    "ax.set_xlabel('Planet Separation,    milli-arseconds')\n",
    "plt.legend(['C Stab.','BDE','Total'], loc = 'upper right')\n",
    "plt.grid(True, which='both', linestyle='--', linewidth=0.5)  # Customize grid style\n",
    "plt.show()\n",
    "\n",
    "scenarioDF\n",
    "\n",
    "\n",
    "# ### Contributions to N-sig Sensitivity\n",
    "# \n",
    "# Note: Zodi contribution peaks at mid-was because of increasing occ trans with dec exo zodi flux as WA gets larger"
   ]
  },
  {
   "cell_type": "markdown",
   "id": "ab546d6c",
   "metadata": {},
   "source": [
    "### Contributions to N-sig Sensitivity"
   ]
  },
  {
   "cell_type": "code",
   "execution_count": null,
   "id": "14f336fa",
   "metadata": {},
   "outputs": [],
   "source": [
    "# User may select the upper and lower limits of range, but may default to \n",
    "# the inner and outer working angles (inclusive) of the range of WA \n",
    " \n",
    " \n",
    "numWAs = 7 # number of radial slices including the IWA and OWA\n",
    "planetWAs_3 = np.linspace(IWA,OWA, numWAs)\n",
    "\n",
    "nsigmasens_finites_3 = []\n",
    " \n",
    "separations_3 = []\n",
    "planet_implicits = []\n",
    "speckles = []\n",
    "zodis = []\n",
    "\n",
    "for planetWA in planetWAs_3:\n",
    "    \n",
    "    print(planetWA)\n",
    "\n",
    "    # Calculates the FRN sensitivity and contributors to the sensitivity\n",
    "\n",
    "    nsigmasens_finite, nsigmasens_inf, separation,\\\n",
    "    planet_implicit, speckle, zodi, cstab, bde, total =\\\n",
    "    fl.DRM_planetSens_vals(scenarioDF, perfLevel, CSprefix,\\\n",
    "                           isPhotonCounting, target,planetWA, lamD, detPCthreshold)\n",
    "\n",
    "    # For this radial slice, store the values for table\n",
    "\n",
    "    # planet working angle (lam/D)\n",
    "    # planetWAs_3.append(planetWA) \n",
    "\n",
    "     # separation (mas)\n",
    "    separations_3.append(separation)\n",
    "\n",
    "    # sensitivity\n",
    "    nsigmasens_finites_3.append(nsigmasens_finite) \n",
    "    \n",
    "    planet_implicits.append(planet_implicit)\n",
    "    \n",
    "    speckles.append(speckle)\n",
    "    \n",
    "    zodis.append(zodi)\n",
    "    \n",
    "Contributors_Sensitivity = pd.DataFrame(list(zip(separations_3,planetWAs_3,\\\n",
    "                                                 planet_implicits,speckles,\\\n",
    "                                                 zodis,nsigmasens_finites_3)),\\\n",
    "                   columns = ['sep(mas)','WA','planet','Spec','Zodi','~NEFR'])\n",
    "Contributors_Sensitivity.round(2)"
   ]
  }
 ],
 "metadata": {
  "kernelspec": {
   "display_name": "Python 3 (ipykernel)",
   "language": "python",
   "name": "python3"
  },
  "language_info": {
   "codemirror_mode": {
    "name": "ipython",
    "version": 3
   },
   "file_extension": ".py",
   "mimetype": "text/x-python",
   "name": "python",
   "nbconvert_exporter": "python",
   "pygments_lexer": "ipython3",
   "version": "3.12.3"
  }
 },
 "nbformat": 4,
 "nbformat_minor": 5
}
